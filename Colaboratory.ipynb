{
  "nbformat": 4,
  "nbformat_minor": 0,
  "metadata": {
    "colab": {
      "name": "こんにちはColaboratory",
      "version": "0.3.2",
      "provenance": [],
      "collapsed_sections": [],
      "toc_visible": true,
      "include_colab_link": true
    },
    "kernelspec": {
      "display_name": "Python 3",
      "name": "python3"
    }
  },
  "cells": [
    {
      "cell_type": "markdown",
      "metadata": {
        "id": "view-in-github",
        "colab_type": "text"
      },
      "source": [
        "<a href=\"https://colab.research.google.com/github/toremoro21/HelloGit/blob/master/Colaboratory.ipynb\" target=\"_parent\"><img src=\"https://colab.research.google.com/assets/colab-badge.svg\" alt=\"Open In Colab\"/></a>"
      ]
    },
    {
      "metadata": {
        "colab_type": "text",
        "id": "luKDxbnWyNGy"
      },
      "cell_type": "markdown",
      "source": [
        "<img height=\"60px\" src=\"/img/colab_favicon.ico\" align=\"left\" hspace=\"20px\" vspace=\"5px\">\n",
        "\n",
        "## Colaboratory へようこそ\n",
        "\n",
        "Colaboratory は、完全にクラウドで実行される Jupyter ノートブック環境です。設定不要で、無料でご利用になれます。詳細については、[よくある質問](https://research.google.com/colaboratory/faq.html)をご覧ください。"
      ]
    },
    {
      "metadata": {
        "colab_type": "text",
        "id": "ol93N5hsyNG0"
      },
      "cell_type": "markdown",
      "source": [
        "## はじめに\n",
        "- [Colaboratory の概要](/notebooks/basic_features_overview.ipynb)\n",
        "- [データの読み込みと保存: ローカル ファイル、Google ドライブ、Google スプレッドシート、Google Cloud Storage](/notebooks/io.ipynb)\n",
        "- [ライブラリのインポートと依存関係のインストール](/notebooks/snippets/importing_libraries.ipynb)\n",
        "- [Google Cloud BigQuery の使用](/notebooks/bigquery.ipynb)\n",
        "- [フォーム](/notebooks/forms.ipynb)、[グラフ](/notebooks/charts.ipynb)、[マークダウン](/notebooks/markdown_guide.ipynb)、[ウィジェット](/notebooks/widgets.ipynb)\n",
        "- [GPU を使用した TensorFlow](/notebooks/gpu.ipynb)\n",
        "- [Machine Learning Crash Course](https://developers.google.com/machine-learning/crash-course/): [Pandas の概要](/notebooks/mlcc/intro_to_pandas.ipynb)、[TensorFlow の最初のステップ](/notebooks/mlcc/first_steps_with_tensor_flow.ipynb)\n"
      ]
    },
    {
      "metadata": {
        "id": "AxYHHJzx9kTQ",
        "colab_type": "code",
        "colab": {
          "base_uri": "https://localhost:8080/",
          "height": 51
        },
        "outputId": "d9b02d13-9a1d-4ee3-ef36-9cade564d62f"
      },
      "cell_type": "code",
      "source": [
        "import tensorflow as tf\n",
        "\n",
        "input1 = tf.ones((2, 3))\n",
        "input2 = tf.reshape(tf.range(1, 7, dtype=tf.float32), (2, 3))\n",
        "output = input1 + input2\n",
        "\n",
        "with tf.Session():\n",
        "  result = output.eval()\n",
        "result  "
      ],
      "execution_count": 1,
      "outputs": [
        {
          "output_type": "execute_result",
          "data": {
            "text/plain": [
              "array([[2., 3., 4.],\n",
              "       [5., 6., 7.]], dtype=float32)"
            ]
          },
          "metadata": {
            "tags": []
          },
          "execution_count": 1
        }
      ]
    },
    {
      "metadata": {
        "id": "NdBu1QWn-8Fj",
        "colab_type": "code",
        "colab": {
          "base_uri": "https://localhost:8080/",
          "height": 170
        },
        "outputId": "3e31bc74-3bd6-4c20-bea7-e97292dd89cd"
      },
      "cell_type": "code",
      "source": [
        "import random\n",
        "\n",
        "def start_message():\n",
        "    print('じゃんけんスタート')\n",
        "    print('あなたの手を入力してください')\n",
        "\n",
        "def get_my_hand():\n",
        "    my_hand = int(input('0:グー, 1:チョキ, 2:パー'))\n",
        "    return my_hand\n",
        "\n",
        "def get_you_hand():\n",
        "    you_hand = random.randint(0, 2)\n",
        "    return you_hand\n",
        "\n",
        "def view_result(hand_diff):\n",
        "    if hand_diff == 0 :\n",
        "        print('あいこ')\n",
        "    elif (hand_diff + 3 ) % 3 == 1 :\n",
        "        print('勝ち')\n",
        "    else:\n",
        "        print('負け')\n",
        "\n",
        "def get_hand_name(hand_number):\n",
        "    hands = ['グー','チョキ','パー']\n",
        "    return hands[hand_number]\n",
        "\n",
        "start_message()\n",
        "\n",
        "my_hand = get_my_hand()\n",
        "print(my_hand)\n",
        "print('あなたの手は'+get_hand_name(my_hand))\n",
        "\n",
        "you_hand = get_you_hand()\n",
        "print(you_hand)\n",
        "print('相手の手は'+get_hand_name(you_hand))\n",
        "\n",
        "hand_diff = you_hand - my_hand\n",
        "print(hand_diff)\n",
        "\n",
        "view_result(hand_diff)\n"
      ],
      "execution_count": 5,
      "outputs": [
        {
          "output_type": "stream",
          "text": [
            "じゃんけんスタート\n",
            "あなたの手を入力してください\n",
            "0:グー, 1:チョキ, 2:パー0\n",
            "0\n",
            "あなたの手はグー\n",
            "2\n",
            "相手の手はパー\n",
            "2\n",
            "負け\n"
          ],
          "name": "stdout"
        }
      ]
    },
    {
      "metadata": {
        "colab_type": "text",
        "id": "1fr51oVCHRZU"
      },
      "cell_type": "markdown",
      "source": [
        "## 主要な機能"
      ]
    },
    {
      "metadata": {
        "colab_type": "text",
        "id": "f4-4_atqyNG3"
      },
      "cell_type": "markdown",
      "source": [
        "### TensorFlow の実行"
      ]
    },
    {
      "metadata": {
        "colab_type": "text",
        "id": "xcIRzSExyNG5"
      },
      "cell_type": "markdown",
      "source": [
        "Colaboratory では、ワンクリックで TensorFlow のコードをブラウザ上で実行できます。以下の例は 2 つのマトリックスを追加します。\n",
        "\n",
        "$\\begin{bmatrix}\n",
        "  1. & 1. & 1. \\\\\n",
        "  1. & 1. & 1. \\\\\n",
        "\\end{bmatrix} +\n",
        "\\begin{bmatrix}\n",
        "  1. & 2. & 3. \\\\\n",
        "  4. & 5. & 6. \\\\\n",
        "\\end{bmatrix} =\n",
        "\\begin{bmatrix}\n",
        "  2. & 3. & 4. \\\\\n",
        "  5. & 6. & 7. \\\\\n",
        "\\end{bmatrix}$"
      ]
    },
    {
      "metadata": {
        "colab_type": "code",
        "id": "oYZkU7ZN3CL0",
        "outputId": "35c3431d-a185-416d-afce-d5677d14bbd1",
        "colab": {
          "base_uri": "https://localhost:8080/",
          "height": 51
        }
      },
      "cell_type": "code",
      "source": [
        "import tensorflow as tf\n",
        "\n",
        "input1 = tf.ones((2, 3))\n",
        "input2 = tf.reshape(tf.range(1, 7, dtype=tf.float32), (2, 3))\n",
        "output = input1 + input2\n",
        "\n",
        "with tf.Session():\n",
        "  result = output.eval()\n",
        "result  "
      ],
      "execution_count": 0,
      "outputs": [
        {
          "output_type": "execute_result",
          "data": {
            "text/plain": [
              "array([[2., 3., 4.],\n",
              "       [5., 6., 7.]], dtype=float32)"
            ]
          },
          "metadata": {
            "tags": []
          },
          "execution_count": 0
        }
      ]
    },
    {
      "metadata": {
        "colab_type": "text",
        "id": "nwYF0E3Sjiy4"
      },
      "cell_type": "markdown",
      "source": [
        "### GitHub\n",
        "\n",
        "[ファイル] > [GitHub にコピーを保存...] を使うと、Colaboratory ノートブックのコピーを GitHub に保存できます。\n",
        "\n",
        "GitHub 上の .ipynb は、該当のパスを colab.research.google.com/github/ に追加するだけで読み込みが可能です。たとえば、[colab.research.google.com/github/tensorflow/models/blob/master/samples/core/get_started/_index.ipynb](https://colab.research.google.com/github/tensorflow/models/blob/master/samples/core/get_started/_index.ipynb) の場合、GitHub 上の[こちらの .ipynb](https://github.com/tensorflow/models/blob/master/samples/core/get_started/_index.ipynb) が読み込まれます。\n",
        "\n"
      ]
    },
    {
      "metadata": {
        "colab_type": "text",
        "id": "RSFr8zKJyNG_"
      },
      "cell_type": "markdown",
      "source": [
        "### 視覚化"
      ]
    },
    {
      "metadata": {
        "colab_type": "text",
        "id": "Q4UKcbSDyNHA"
      },
      "cell_type": "markdown",
      "source": [
        "Colaboratory には [matplotlib](https://matplotlib.org/) などの広く使用されているライブラリが含まれており、視覚化を簡単に行えます。"
      ]
    },
    {
      "metadata": {
        "colab_type": "code",
        "id": "YX9n2CR7yNHA",
        "outputId": "52a1fea1-de99-4b63-e36a-1c7adf922cf1",
        "colab": {
          "base_uri": "https://localhost:8080/",
          "height": 347
        }
      },
      "cell_type": "code",
      "source": [
        "import matplotlib.pyplot as plt\n",
        "import numpy as np\n",
        "\n",
        "x = np.arange(20)\n",
        "y = [x_i + np.random.randn(1) for x_i in x]\n",
        "a, b = np.polyfit(x, y, 1)\n",
        "_ = plt.plot(x, y, 'o', np.arange(20), a*np.arange(20)+b, '-')"
      ],
      "execution_count": 6,
      "outputs": [
        {
          "output_type": "display_data",
          "data": {
            "image/png": "[encoded data removed]",
            "text/plain": [
              "<matplotlib.figure.Figure at 0x7f51ad6e1978>"
            ]
          },
          "metadata": {
            "tags": []
          }
        }
      ]
    },
    {
      "metadata": {
        "colab_type": "text",
        "id": "G53a-jziyNHE"
      },
      "cell_type": "markdown",
      "source": [
        "新しいライブラリを使用するには、`pip install` でノートブックの最上部にインストールすると、そのライブラリをノートブック内のどこでも使用できるようになります。一般的に使用されているライブラリをインポートする方法については、[ライブラリのインポートのサンプル ノートブック](/notebooks/snippets/importing_libraries.ipynb)をご覧ください。"
      ]
    },
    {
      "metadata": {
        "colab_type": "code",
        "id": "Ls8x10CoyNHF",
        "outputId": "6a8a4324-2ce7-4f99-d765-c172e0408d8c",
        "colab": {
          "base_uri": "https://localhost:8080/",
          "height": 330
        }
      },
      "cell_type": "code",
      "source": [
        "!pip install -q matplotlib-venn\n",
        "\n",
        "from matplotlib_venn import venn2\n",
        "_ = venn2(subsets = (3, 2, 1))"
      ],
      "execution_count": 0,
      "outputs": [
        {
          "output_type": "display_data",
          "data": {
            "image/png": "[encoded data removed]",
            "text/plain": [
              "<matplotlib.figure.Figure at 0x7fe80d84e898>"
            ]
          },
          "metadata": {
            "tags": []
          }
        }
      ]
    },
    {
      "metadata": {
        "colab_type": "text",
        "id": "U8eu7lSAyNHM"
      },
      "cell_type": "markdown",
      "source": [
        "### ローカル ランタイムのサポート\n",
        "\n",
        "Colaboratory では、ローカルマシン上の Jupyter ランタイムへの接続をサポートしています。詳しくは、Google Colaboratory の[ドキュメント](https://research.google.com/colaboratory/local-runtimes.html)をご覧ください。"
      ]
    }
  ]
}